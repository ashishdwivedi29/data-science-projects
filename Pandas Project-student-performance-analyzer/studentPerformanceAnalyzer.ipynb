{
 "cells": [
  {
   "cell_type": "code",
   "execution_count": 2,
   "id": "1673a5bb-520e-4475-8e37-34a46d52a5a2",
   "metadata": {},
   "outputs": [
    {
     "name": "stdout",
     "output_type": "stream",
     "text": [
      "          Name  Roll No    Subject  Marks Attendance Grade Exam Type  \\\n",
      "0  Riya Sharma      101       Math     87        90%     A   Midterm   \n",
      "1   Aman Singh      102    Physics     65        85%     B   Midterm   \n",
      "2  Sneha Patel      103       Math     92        95%    A+     Final   \n",
      "3    Raj Mehta      104  Chemistry     70        80%     B   Midterm   \n",
      "4   Isha Verma      105       Math     48        70%     C     Final   \n",
      "\n",
      "         Date  \n",
      "0  2023-10-05  \n",
      "1  2023-10-05  \n",
      "2  2024-03-12  \n",
      "3  2023-10-05  \n",
      "4  2024-03-12  \n"
     ]
    }
   ],
   "source": [
    "import pandas as pd\n",
    "\n",
    "#load csv\n",
    "df=pd.read_csv(\"student_performance.csv\")\n",
    "#or \n",
    "#df=pd.read_csv(\"C:\\\\Users\\Dell\\\\Ai_Python_DS_project\\\\Pandas Project-student-performance-analyzer\\\\student_performance.csv\")\n",
    "\n",
    "#display first few lines \n",
    "print(df.head())"
   ]
  },
  {
   "cell_type": "code",
   "execution_count": 3,
   "id": "7544d1a4-9032-4d3f-8762-c3738bdc0d5e",
   "metadata": {},
   "outputs": [
    {
     "name": "stdout",
     "output_type": "stream",
     "text": [
      "<class 'pandas.core.frame.DataFrame'>\n",
      "RangeIndex: 10 entries, 0 to 9\n",
      "Data columns (total 8 columns):\n",
      " #   Column      Non-Null Count  Dtype \n",
      "---  ------      --------------  ----- \n",
      " 0   Name        10 non-null     object\n",
      " 1   Roll No     10 non-null     int64 \n",
      " 2   Subject     10 non-null     object\n",
      " 3   Marks       10 non-null     int64 \n",
      " 4   Attendance  10 non-null     object\n",
      " 5   Grade       10 non-null     object\n",
      " 6   Exam Type   10 non-null     object\n",
      " 7   Date        10 non-null     object\n",
      "dtypes: int64(2), object(6)\n",
      "memory usage: 772.0+ bytes\n",
      "None\n"
     ]
    }
   ],
   "source": [
    "#basic info\n",
    "print(df.info())"
   ]
  },
  {
   "cell_type": "code",
   "execution_count": null,
   "id": "2cb08cc0-a3dc-4b1c-8221-ecf971b82cd1",
   "metadata": {},
   "outputs": [
    {
     "ename": "AttributeError",
     "evalue": "'DataFrame' object has no attribute 'describ'",
     "output_type": "error",
     "traceback": [
      "\u001b[31m---------------------------------------------------------------------------\u001b[39m",
      "\u001b[31mAttributeError\u001b[39m                            Traceback (most recent call last)",
      "\u001b[32m~\\AppData\\Local\\Temp\\ipykernel_2980\\779332707.py\u001b[39m in \u001b[36m?\u001b[39m\u001b[34m()\u001b[39m\n\u001b[32m      1\u001b[39m \u001b[38;5;66;03m#describe\u001b[39;00m\n\u001b[32m----> \u001b[39m\u001b[32m2\u001b[39m print(df.describ())\n",
      "\u001b[32mC:\\Python312\\Lib\\site-packages\\pandas\\core\\generic.py\u001b[39m in \u001b[36m?\u001b[39m\u001b[34m(self, name)\u001b[39m\n\u001b[32m   6295\u001b[39m             \u001b[38;5;28;01mand\u001b[39;00m name \u001b[38;5;28;01mnot\u001b[39;00m \u001b[38;5;28;01min\u001b[39;00m self._accessors\n\u001b[32m   6296\u001b[39m             \u001b[38;5;28;01mand\u001b[39;00m self._info_axis._can_hold_identifiers_and_holds_name(name)\n\u001b[32m   6297\u001b[39m         ):\n\u001b[32m   6298\u001b[39m             \u001b[38;5;28;01mreturn\u001b[39;00m self[name]\n\u001b[32m-> \u001b[39m\u001b[32m6299\u001b[39m         \u001b[38;5;28;01mreturn\u001b[39;00m object.__getattribute__(self, name)\n",
      "\u001b[31mAttributeError\u001b[39m: 'DataFrame' object has no attribute 'describ'"
     ]
    }
   ],
   "source": [
    "#describe\n",
    "print(df.describe())"
   ]
  },
  {
   "cell_type": "code",
   "execution_count": 5,
   "id": "7c535919-f678-419e-84ac-f5264a36d1b8",
   "metadata": {},
   "outputs": [
    {
     "name": "stdout",
     "output_type": "stream",
     "text": [
      "Index(['Name', 'Roll No', 'Subject', 'Marks', 'Attendance', 'Grade',\n",
      "       'Exam Type', 'Date'],\n",
      "      dtype='object')\n"
     ]
    }
   ],
   "source": [
    "#columns\n",
    "print(df.columns)"
   ]
  },
  {
   "cell_type": "code",
   "execution_count": 6,
   "id": "a68479f5-2294-4fa3-9c6e-3df06cf9f662",
   "metadata": {},
   "outputs": [
    {
     "data": {
      "text/plain": [
       "(10, 8)"
      ]
     },
     "execution_count": 6,
     "metadata": {},
     "output_type": "execute_result"
    }
   ],
   "source": [
    "df.shape"
   ]
  },
  {
   "cell_type": "code",
   "execution_count": 7,
   "id": "a878791b-69a4-4922-a070-de4073db226b",
   "metadata": {},
   "outputs": [
    {
     "name": "stdout",
     "output_type": "stream",
     "text": [
      "<class 'pandas.core.frame.DataFrame'>\n",
      "RangeIndex: 10 entries, 0 to 9\n",
      "Data columns (total 8 columns):\n",
      " #   Column      Non-Null Count  Dtype \n",
      "---  ------      --------------  ----- \n",
      " 0   Name        10 non-null     object\n",
      " 1   Roll No     10 non-null     int64 \n",
      " 2   Subject     10 non-null     object\n",
      " 3   Marks       10 non-null     int64 \n",
      " 4   Attendance  10 non-null     object\n",
      " 5   Grade       10 non-null     object\n",
      " 6   Exam Type   10 non-null     object\n",
      " 7   Date        10 non-null     object\n",
      "dtypes: int64(2), object(6)\n",
      "memory usage: 772.0+ bytes\n"
     ]
    }
   ],
   "source": [
    "df.info()"
   ]
  },
  {
   "cell_type": "code",
   "execution_count": 8,
   "id": "932e49a0-04d9-4c1c-a4ca-2e7f2ea86c94",
   "metadata": {},
   "outputs": [
    {
     "data": {
      "text/plain": [
       "Name          0\n",
       "Roll No       0\n",
       "Subject       0\n",
       "Marks         0\n",
       "Attendance    0\n",
       "Grade         0\n",
       "Exam Type     0\n",
       "Date          0\n",
       "dtype: int64"
      ]
     },
     "execution_count": 8,
     "metadata": {},
     "output_type": "execute_result"
    }
   ],
   "source": [
    "df.isnull().sum()"
   ]
  },
  {
   "cell_type": "code",
   "execution_count": 12,
   "id": "966a0950-ee3c-4445-b94f-d225390c4e23",
   "metadata": {},
   "outputs": [
    {
     "ename": "AttributeError",
     "evalue": "Can only use .str accessor with string values!",
     "output_type": "error",
     "traceback": [
      "\u001b[31m---------------------------------------------------------------------------\u001b[39m",
      "\u001b[31mAttributeError\u001b[39m                            Traceback (most recent call last)",
      "\u001b[36mCell\u001b[39m\u001b[36m \u001b[39m\u001b[32mIn[12]\u001b[39m\u001b[32m, line 2\u001b[39m\n\u001b[32m      1\u001b[39m \u001b[38;5;66;03m# Remove '%' and convert to float\u001b[39;00m\n\u001b[32m----> \u001b[39m\u001b[32m2\u001b[39m df[\u001b[33m\"\u001b[39m\u001b[33mAttendance\u001b[39m\u001b[33m\"\u001b[39m] = \u001b[43mdf\u001b[49m\u001b[43m[\u001b[49m\u001b[33;43m\"\u001b[39;49m\u001b[33;43mAttendance\u001b[39;49m\u001b[33;43m\"\u001b[39;49m\u001b[43m]\u001b[49m\u001b[43m.\u001b[49m\u001b[43mstr\u001b[49m.replace(\u001b[33m'\u001b[39m\u001b[33m%\u001b[39m\u001b[33m'\u001b[39m, \u001b[33m'\u001b[39m\u001b[33m'\u001b[39m).astype(\u001b[38;5;28mfloat\u001b[39m)\n\u001b[32m      4\u001b[39m df.info()\n",
      "\u001b[36mFile \u001b[39m\u001b[32mC:\\Python312\\Lib\\site-packages\\pandas\\core\\generic.py:6299\u001b[39m, in \u001b[36mNDFrame.__getattr__\u001b[39m\u001b[34m(self, name)\u001b[39m\n\u001b[32m   6292\u001b[39m \u001b[38;5;28;01mif\u001b[39;00m (\n\u001b[32m   6293\u001b[39m     name \u001b[38;5;129;01mnot\u001b[39;00m \u001b[38;5;129;01min\u001b[39;00m \u001b[38;5;28mself\u001b[39m._internal_names_set\n\u001b[32m   6294\u001b[39m     \u001b[38;5;129;01mand\u001b[39;00m name \u001b[38;5;129;01mnot\u001b[39;00m \u001b[38;5;129;01min\u001b[39;00m \u001b[38;5;28mself\u001b[39m._metadata\n\u001b[32m   6295\u001b[39m     \u001b[38;5;129;01mand\u001b[39;00m name \u001b[38;5;129;01mnot\u001b[39;00m \u001b[38;5;129;01min\u001b[39;00m \u001b[38;5;28mself\u001b[39m._accessors\n\u001b[32m   6296\u001b[39m     \u001b[38;5;129;01mand\u001b[39;00m \u001b[38;5;28mself\u001b[39m._info_axis._can_hold_identifiers_and_holds_name(name)\n\u001b[32m   6297\u001b[39m ):\n\u001b[32m   6298\u001b[39m     \u001b[38;5;28;01mreturn\u001b[39;00m \u001b[38;5;28mself\u001b[39m[name]\n\u001b[32m-> \u001b[39m\u001b[32m6299\u001b[39m \u001b[38;5;28;01mreturn\u001b[39;00m \u001b[38;5;28;43mobject\u001b[39;49m\u001b[43m.\u001b[49m\u001b[34;43m__getattribute__\u001b[39;49m\u001b[43m(\u001b[49m\u001b[38;5;28;43mself\u001b[39;49m\u001b[43m,\u001b[49m\u001b[43m \u001b[49m\u001b[43mname\u001b[49m\u001b[43m)\u001b[49m\n",
      "\u001b[36mFile \u001b[39m\u001b[32mC:\\Python312\\Lib\\site-packages\\pandas\\core\\accessor.py:224\u001b[39m, in \u001b[36mCachedAccessor.__get__\u001b[39m\u001b[34m(self, obj, cls)\u001b[39m\n\u001b[32m    221\u001b[39m \u001b[38;5;28;01mif\u001b[39;00m obj \u001b[38;5;129;01mis\u001b[39;00m \u001b[38;5;28;01mNone\u001b[39;00m:\n\u001b[32m    222\u001b[39m     \u001b[38;5;66;03m# we're accessing the attribute of the class, i.e., Dataset.geo\u001b[39;00m\n\u001b[32m    223\u001b[39m     \u001b[38;5;28;01mreturn\u001b[39;00m \u001b[38;5;28mself\u001b[39m._accessor\n\u001b[32m--> \u001b[39m\u001b[32m224\u001b[39m accessor_obj = \u001b[38;5;28;43mself\u001b[39;49m\u001b[43m.\u001b[49m\u001b[43m_accessor\u001b[49m\u001b[43m(\u001b[49m\u001b[43mobj\u001b[49m\u001b[43m)\u001b[49m\n\u001b[32m    225\u001b[39m \u001b[38;5;66;03m# Replace the property with the accessor object. Inspired by:\u001b[39;00m\n\u001b[32m    226\u001b[39m \u001b[38;5;66;03m# https://www.pydanny.com/cached-property.html\u001b[39;00m\n\u001b[32m    227\u001b[39m \u001b[38;5;66;03m# We need to use object.__setattr__ because we overwrite __setattr__ on\u001b[39;00m\n\u001b[32m    228\u001b[39m \u001b[38;5;66;03m# NDFrame\u001b[39;00m\n\u001b[32m    229\u001b[39m \u001b[38;5;28mobject\u001b[39m.\u001b[34m__setattr__\u001b[39m(obj, \u001b[38;5;28mself\u001b[39m._name, accessor_obj)\n",
      "\u001b[36mFile \u001b[39m\u001b[32mC:\\Python312\\Lib\\site-packages\\pandas\\core\\strings\\accessor.py:191\u001b[39m, in \u001b[36mStringMethods.__init__\u001b[39m\u001b[34m(self, data)\u001b[39m\n\u001b[32m    188\u001b[39m \u001b[38;5;28;01mdef\u001b[39;00m\u001b[38;5;250m \u001b[39m\u001b[34m__init__\u001b[39m(\u001b[38;5;28mself\u001b[39m, data) -> \u001b[38;5;28;01mNone\u001b[39;00m:\n\u001b[32m    189\u001b[39m     \u001b[38;5;28;01mfrom\u001b[39;00m\u001b[38;5;250m \u001b[39m\u001b[34;01mpandas\u001b[39;00m\u001b[34;01m.\u001b[39;00m\u001b[34;01mcore\u001b[39;00m\u001b[34;01m.\u001b[39;00m\u001b[34;01marrays\u001b[39;00m\u001b[34;01m.\u001b[39;00m\u001b[34;01mstring_\u001b[39;00m\u001b[38;5;250m \u001b[39m\u001b[38;5;28;01mimport\u001b[39;00m StringDtype\n\u001b[32m--> \u001b[39m\u001b[32m191\u001b[39m     \u001b[38;5;28mself\u001b[39m._inferred_dtype = \u001b[38;5;28;43mself\u001b[39;49m\u001b[43m.\u001b[49m\u001b[43m_validate\u001b[49m\u001b[43m(\u001b[49m\u001b[43mdata\u001b[49m\u001b[43m)\u001b[49m\n\u001b[32m    192\u001b[39m     \u001b[38;5;28mself\u001b[39m._is_categorical = \u001b[38;5;28misinstance\u001b[39m(data.dtype, CategoricalDtype)\n\u001b[32m    193\u001b[39m     \u001b[38;5;28mself\u001b[39m._is_string = \u001b[38;5;28misinstance\u001b[39m(data.dtype, StringDtype)\n",
      "\u001b[36mFile \u001b[39m\u001b[32mC:\\Python312\\Lib\\site-packages\\pandas\\core\\strings\\accessor.py:245\u001b[39m, in \u001b[36mStringMethods._validate\u001b[39m\u001b[34m(data)\u001b[39m\n\u001b[32m    242\u001b[39m inferred_dtype = lib.infer_dtype(values, skipna=\u001b[38;5;28;01mTrue\u001b[39;00m)\n\u001b[32m    244\u001b[39m \u001b[38;5;28;01mif\u001b[39;00m inferred_dtype \u001b[38;5;129;01mnot\u001b[39;00m \u001b[38;5;129;01min\u001b[39;00m allowed_types:\n\u001b[32m--> \u001b[39m\u001b[32m245\u001b[39m     \u001b[38;5;28;01mraise\u001b[39;00m \u001b[38;5;167;01mAttributeError\u001b[39;00m(\u001b[33m\"\u001b[39m\u001b[33mCan only use .str accessor with string values!\u001b[39m\u001b[33m\"\u001b[39m)\n\u001b[32m    246\u001b[39m \u001b[38;5;28;01mreturn\u001b[39;00m inferred_dtype\n",
      "\u001b[31mAttributeError\u001b[39m: Can only use .str accessor with string values!"
     ]
    }
   ],
   "source": [
    "\n",
    "# Remove '%' and convert to float\n",
    "df[\"Attendance\"] = df[\"Attendance\"].str.replace('%', '').astype(float)\n",
    "\n",
    "df.info()"
   ]
  },
  {
   "cell_type": "code",
   "execution_count": 14,
   "id": "bb09390f-82bb-45ce-a097-df0d07049704",
   "metadata": {},
   "outputs": [
    {
     "name": "stdout",
     "output_type": "stream",
     "text": [
      "0   2023-10-05\n",
      "1   2023-10-05\n",
      "2   2024-03-12\n",
      "3   2023-10-05\n",
      "4   2024-03-12\n",
      "5   2023-10-05\n",
      "6   2024-03-12\n",
      "7   2024-03-12\n",
      "8   2024-03-12\n",
      "9   2023-10-05\n",
      "Name: Date, dtype: datetime64[ns]\n"
     ]
    }
   ],
   "source": [
    "df[\"Date\"] = pd.to_datetime(df[\"Date\"])\n",
    "\n",
    "print(df[\"Date\"])"
   ]
  },
  {
   "cell_type": "code",
   "execution_count": 18,
   "id": "b96692b8-461d-4b04-9509-df6cec83b0ca",
   "metadata": {},
   "outputs": [
    {
     "name": "stdout",
     "output_type": "stream",
     "text": [
      "0    pass\n",
      "1    pass\n",
      "2    pass\n",
      "3    pass\n",
      "4    pass\n",
      "5    pass\n",
      "6    pass\n",
      "7    fail\n",
      "8    pass\n",
      "9    pass\n",
      "Name: Result, dtype: object\n"
     ]
    }
   ],
   "source": [
    "df[\"Result\"]=df[\"Marks\"].apply(lambda x: \"pass\" if x>=40 else \"fail\")\n",
    "print(df[\"Result\"])"
   ]
  },
  {
   "cell_type": "code",
   "execution_count": 21,
   "id": "5269d9af-ea82-4438-b296-82116348772f",
   "metadata": {},
   "outputs": [
    {
     "name": "stdout",
     "output_type": "stream",
     "text": [
      "0     9\n",
      "1     7\n",
      "2    10\n",
      "3     7\n",
      "4     6\n",
      "5     6\n",
      "6     8\n",
      "7     5\n",
      "8    10\n",
      "9    10\n",
      "Name: Grade_Score, dtype: int64\n"
     ]
    }
   ],
   "source": [
    "grade_scale={\"A+\":10,\"A\":9,\"B+\":8,\"B\":7,\"C\":6,\"D\":5}\n",
    "df[\"Grade_Score\"]=df[\"Grade\"].map(grade_scale)\n",
    "print(df[\"Grade_Score\"])"
   ]
  },
  {
   "cell_type": "code",
   "execution_count": 22,
   "id": "5a5afc8e-5b7e-403a-82a3-d83de0077070",
   "metadata": {},
   "outputs": [
    {
     "name": "stdout",
     "output_type": "stream",
     "text": [
      "          Name  Roll No    Subject  Marks  Attendance Grade Exam Type  \\\n",
      "0  Riya Sharma      101       Math     87        90.0     A   Midterm   \n",
      "1   Aman Singh      102    Physics     65        85.0     B   Midterm   \n",
      "2  Sneha Patel      103       Math     92        95.0    A+     Final   \n",
      "3    Raj Mehta      104  Chemistry     70        80.0     B   Midterm   \n",
      "4   Isha Verma      105       Math     48        70.0     C     Final   \n",
      "\n",
      "        Date Result  Grade_Score  \n",
      "0 2023-10-05   pass            9  \n",
      "1 2023-10-05   pass            7  \n",
      "2 2024-03-12   pass           10  \n",
      "3 2023-10-05   pass            7  \n",
      "4 2024-03-12   pass            6  \n"
     ]
    }
   ],
   "source": [
    "print(df.head())"
   ]
  },
  {
   "cell_type": "code",
   "execution_count": 23,
   "id": "9ac23272-2d1c-460c-952a-1c6f78012312",
   "metadata": {},
   "outputs": [
    {
     "name": "stdout",
     "output_type": "stream",
     "text": [
      "           Name  Roll No    Subject  Marks  Attendance Grade Exam Type  \\\n",
      "2   Sneha Patel      103       Math     92        95.0    A+     Final   \n",
      "8  Sonal Kapoor      109    Physics     89        92.0    A+     Final   \n",
      "9    Mehul Jain      110  Chemistry     93        96.0    A+   Midterm   \n",
      "\n",
      "        Date Result  Grade_Score  \n",
      "2 2024-03-12   pass           10  \n",
      "8 2024-03-12   pass           10  \n",
      "9 2023-10-05   pass           10  \n"
     ]
    }
   ],
   "source": [
    "high_attendance=df[df[\"Attendance\"]>90.0]\n",
    "print(high_attendance)"
   ]
  },
  {
   "cell_type": "code",
   "execution_count": 24,
   "id": "c640cc87-373d-47ef-b4ef-69f990883de1",
   "metadata": {},
   "outputs": [
    {
     "name": "stdout",
     "output_type": "stream",
     "text": [
      "          Name  Roll No  Subject  Marks  Attendance Grade Exam Type  \\\n",
      "1   Aman Singh      102  Physics     65        85.0     B   Midterm   \n",
      "4   Isha Verma      105     Math     48        70.0     C     Final   \n",
      "5  Amit Tiwari      106  Physics     55        65.0     C   Midterm   \n",
      "7  Rahul Yadav      108     Math     35        60.0     D     Final   \n",
      "\n",
      "        Date Result  Grade_Score  \n",
      "1 2023-10-05   pass            7  \n",
      "4 2024-03-12   pass            6  \n",
      "5 2023-10-05   pass            6  \n",
      "7 2024-03-12   fail            5  \n"
     ]
    }
   ],
   "source": [
    "low_scores=df[df[\"Marks\"]<70]\n",
    "print(low_scores)"
   ]
  },
  {
   "cell_type": "code",
   "execution_count": 26,
   "id": "d6284547-d714-47bb-aa28-6f0ea0c9c615",
   "metadata": {},
   "outputs": [
    {
     "name": "stdout",
     "output_type": "stream",
     "text": [
      "           Name  Roll No    Subject  Marks  Attendance Grade Exam Type  \\\n",
      "0   Riya Sharma      101       Math     87        90.0     A   Midterm   \n",
      "2   Sneha Patel      103       Math     92        95.0    A+     Final   \n",
      "8  Sonal Kapoor      109    Physics     89        92.0    A+     Final   \n",
      "9    Mehul Jain      110  Chemistry     93        96.0    A+   Midterm   \n",
      "\n",
      "        Date Result  Grade_Score  \n",
      "0 2023-10-05   pass            9  \n",
      "2 2024-03-12   pass           10  \n",
      "8 2024-03-12   pass           10  \n",
      "9 2023-10-05   pass           10  \n"
     ]
    }
   ],
   "source": [
    "cond_stud=df[(df[\"Marks\"]>80) & (df[\"Attendance\"]>70)]\n",
    "print(cond_stud)"
   ]
  },
  {
   "cell_type": "code",
   "execution_count": 27,
   "id": "e50c43c7-4609-49b4-96f6-556bd84668f5",
   "metadata": {},
   "outputs": [
    {
     "name": "stdout",
     "output_type": "stream",
     "text": [
      "          Name  Roll No Subject  Marks  Attendance Grade Exam Type       Date  \\\n",
      "0  Riya Sharma      101    Math     87        90.0     A   Midterm 2023-10-05   \n",
      "2  Sneha Patel      103    Math     92        95.0    A+     Final 2024-03-12   \n",
      "4   Isha Verma      105    Math     48        70.0     C     Final 2024-03-12   \n",
      "7  Rahul Yadav      108    Math     35        60.0     D     Final 2024-03-12   \n",
      "\n",
      "  Result  Grade_Score  \n",
      "0   pass            9  \n",
      "2   pass           10  \n",
      "4   pass            6  \n",
      "7   fail            5  \n"
     ]
    }
   ],
   "source": [
    "math_std=df[df[\"Subject\"] == \"Math\"]\n",
    "print(math_std)"
   ]
  },
  {
   "cell_type": "code",
   "execution_count": 28,
   "id": "7f182838-3219-47e3-91fb-a618010faf27",
   "metadata": {},
   "outputs": [
    {
     "name": "stdout",
     "output_type": "stream",
     "text": [
      "Grade\n",
      "A     87.000000\n",
      "A+    91.333333\n",
      "B     67.500000\n",
      "B+    78.000000\n",
      "C     51.500000\n",
      "D     35.000000\n",
      "Name: Marks, dtype: float64\n"
     ]
    }
   ],
   "source": [
    "grade_group=df.groupby(\"Grade\")[\"Marks\"].mean()\n",
    "print(grade_group)"
   ]
  },
  {
   "cell_type": "code",
   "execution_count": 30,
   "id": "8636d8eb-6c73-4365-a31a-2f0931a0bdd4",
   "metadata": {},
   "outputs": [
    {
     "name": "stdout",
     "output_type": "stream",
     "text": [
      "Subject\n",
      "Chemistry    80.333333\n",
      "Math         65.500000\n",
      "Physics      69.666667\n",
      "Name: Marks, dtype: float64\n"
     ]
    }
   ],
   "source": [
    "subject_group=df.groupby(\"Subject\")[\"Marks\"].mean()\n",
    "print(subject_group)"
   ]
  },
  {
   "cell_type": "code",
   "execution_count": 31,
   "id": "60901646-70a5-4931-809a-7a3392e4f634",
   "metadata": {},
   "outputs": [
    {
     "data": {
      "text/html": [
       "<div>\n",
       "<style scoped>\n",
       "    .dataframe tbody tr th:only-of-type {\n",
       "        vertical-align: middle;\n",
       "    }\n",
       "\n",
       "    .dataframe tbody tr th {\n",
       "        vertical-align: top;\n",
       "    }\n",
       "\n",
       "    .dataframe thead th {\n",
       "        text-align: right;\n",
       "    }\n",
       "</style>\n",
       "<table border=\"1\" class=\"dataframe\">\n",
       "  <thead>\n",
       "    <tr style=\"text-align: right;\">\n",
       "      <th></th>\n",
       "      <th>Name</th>\n",
       "      <th>Roll No</th>\n",
       "      <th>Subject</th>\n",
       "      <th>Marks</th>\n",
       "      <th>Attendance</th>\n",
       "      <th>Grade</th>\n",
       "      <th>Exam Type</th>\n",
       "      <th>Date</th>\n",
       "      <th>Result</th>\n",
       "      <th>Grade_Score</th>\n",
       "    </tr>\n",
       "  </thead>\n",
       "  <tbody>\n",
       "    <tr>\n",
       "      <th>9</th>\n",
       "      <td>Mehul Jain</td>\n",
       "      <td>110</td>\n",
       "      <td>Chemistry</td>\n",
       "      <td>93</td>\n",
       "      <td>96.0</td>\n",
       "      <td>A+</td>\n",
       "      <td>Midterm</td>\n",
       "      <td>2023-10-05</td>\n",
       "      <td>pass</td>\n",
       "      <td>10</td>\n",
       "    </tr>\n",
       "    <tr>\n",
       "      <th>2</th>\n",
       "      <td>Sneha Patel</td>\n",
       "      <td>103</td>\n",
       "      <td>Math</td>\n",
       "      <td>92</td>\n",
       "      <td>95.0</td>\n",
       "      <td>A+</td>\n",
       "      <td>Final</td>\n",
       "      <td>2024-03-12</td>\n",
       "      <td>pass</td>\n",
       "      <td>10</td>\n",
       "    </tr>\n",
       "    <tr>\n",
       "      <th>8</th>\n",
       "      <td>Sonal Kapoor</td>\n",
       "      <td>109</td>\n",
       "      <td>Physics</td>\n",
       "      <td>89</td>\n",
       "      <td>92.0</td>\n",
       "      <td>A+</td>\n",
       "      <td>Final</td>\n",
       "      <td>2024-03-12</td>\n",
       "      <td>pass</td>\n",
       "      <td>10</td>\n",
       "    </tr>\n",
       "    <tr>\n",
       "      <th>0</th>\n",
       "      <td>Riya Sharma</td>\n",
       "      <td>101</td>\n",
       "      <td>Math</td>\n",
       "      <td>87</td>\n",
       "      <td>90.0</td>\n",
       "      <td>A</td>\n",
       "      <td>Midterm</td>\n",
       "      <td>2023-10-05</td>\n",
       "      <td>pass</td>\n",
       "      <td>9</td>\n",
       "    </tr>\n",
       "    <tr>\n",
       "      <th>6</th>\n",
       "      <td>Priya Nair</td>\n",
       "      <td>107</td>\n",
       "      <td>Chemistry</td>\n",
       "      <td>78</td>\n",
       "      <td>88.0</td>\n",
       "      <td>B+</td>\n",
       "      <td>Final</td>\n",
       "      <td>2024-03-12</td>\n",
       "      <td>pass</td>\n",
       "      <td>8</td>\n",
       "    </tr>\n",
       "    <tr>\n",
       "      <th>3</th>\n",
       "      <td>Raj Mehta</td>\n",
       "      <td>104</td>\n",
       "      <td>Chemistry</td>\n",
       "      <td>70</td>\n",
       "      <td>80.0</td>\n",
       "      <td>B</td>\n",
       "      <td>Midterm</td>\n",
       "      <td>2023-10-05</td>\n",
       "      <td>pass</td>\n",
       "      <td>7</td>\n",
       "    </tr>\n",
       "    <tr>\n",
       "      <th>1</th>\n",
       "      <td>Aman Singh</td>\n",
       "      <td>102</td>\n",
       "      <td>Physics</td>\n",
       "      <td>65</td>\n",
       "      <td>85.0</td>\n",
       "      <td>B</td>\n",
       "      <td>Midterm</td>\n",
       "      <td>2023-10-05</td>\n",
       "      <td>pass</td>\n",
       "      <td>7</td>\n",
       "    </tr>\n",
       "    <tr>\n",
       "      <th>5</th>\n",
       "      <td>Amit Tiwari</td>\n",
       "      <td>106</td>\n",
       "      <td>Physics</td>\n",
       "      <td>55</td>\n",
       "      <td>65.0</td>\n",
       "      <td>C</td>\n",
       "      <td>Midterm</td>\n",
       "      <td>2023-10-05</td>\n",
       "      <td>pass</td>\n",
       "      <td>6</td>\n",
       "    </tr>\n",
       "    <tr>\n",
       "      <th>4</th>\n",
       "      <td>Isha Verma</td>\n",
       "      <td>105</td>\n",
       "      <td>Math</td>\n",
       "      <td>48</td>\n",
       "      <td>70.0</td>\n",
       "      <td>C</td>\n",
       "      <td>Final</td>\n",
       "      <td>2024-03-12</td>\n",
       "      <td>pass</td>\n",
       "      <td>6</td>\n",
       "    </tr>\n",
       "    <tr>\n",
       "      <th>7</th>\n",
       "      <td>Rahul Yadav</td>\n",
       "      <td>108</td>\n",
       "      <td>Math</td>\n",
       "      <td>35</td>\n",
       "      <td>60.0</td>\n",
       "      <td>D</td>\n",
       "      <td>Final</td>\n",
       "      <td>2024-03-12</td>\n",
       "      <td>fail</td>\n",
       "      <td>5</td>\n",
       "    </tr>\n",
       "  </tbody>\n",
       "</table>\n",
       "</div>"
      ],
      "text/plain": [
       "           Name  Roll No    Subject  Marks  Attendance Grade Exam Type  \\\n",
       "9    Mehul Jain      110  Chemistry     93        96.0    A+   Midterm   \n",
       "2   Sneha Patel      103       Math     92        95.0    A+     Final   \n",
       "8  Sonal Kapoor      109    Physics     89        92.0    A+     Final   \n",
       "0   Riya Sharma      101       Math     87        90.0     A   Midterm   \n",
       "6    Priya Nair      107  Chemistry     78        88.0    B+     Final   \n",
       "3     Raj Mehta      104  Chemistry     70        80.0     B   Midterm   \n",
       "1    Aman Singh      102    Physics     65        85.0     B   Midterm   \n",
       "5   Amit Tiwari      106    Physics     55        65.0     C   Midterm   \n",
       "4    Isha Verma      105       Math     48        70.0     C     Final   \n",
       "7   Rahul Yadav      108       Math     35        60.0     D     Final   \n",
       "\n",
       "        Date Result  Grade_Score  \n",
       "9 2023-10-05   pass           10  \n",
       "2 2024-03-12   pass           10  \n",
       "8 2024-03-12   pass           10  \n",
       "0 2023-10-05   pass            9  \n",
       "6 2024-03-12   pass            8  \n",
       "3 2023-10-05   pass            7  \n",
       "1 2023-10-05   pass            7  \n",
       "5 2023-10-05   pass            6  \n",
       "4 2024-03-12   pass            6  \n",
       "7 2024-03-12   fail            5  "
      ]
     },
     "execution_count": 31,
     "metadata": {},
     "output_type": "execute_result"
    }
   ],
   "source": [
    "sort_df=df.sort_values(by=\"Marks\", ascending=False)\n",
    "sort_df"
   ]
  },
  {
   "cell_type": "code",
   "execution_count": 32,
   "id": "d078b1d7-9f1c-47e9-86a3-ceddce7142d5",
   "metadata": {},
   "outputs": [
    {
     "data": {
      "text/html": [
       "<div>\n",
       "<style scoped>\n",
       "    .dataframe tbody tr th:only-of-type {\n",
       "        vertical-align: middle;\n",
       "    }\n",
       "\n",
       "    .dataframe tbody tr th {\n",
       "        vertical-align: top;\n",
       "    }\n",
       "\n",
       "    .dataframe thead th {\n",
       "        text-align: right;\n",
       "    }\n",
       "</style>\n",
       "<table border=\"1\" class=\"dataframe\">\n",
       "  <thead>\n",
       "    <tr style=\"text-align: right;\">\n",
       "      <th></th>\n",
       "      <th>Name</th>\n",
       "      <th>Roll No</th>\n",
       "      <th>Subject</th>\n",
       "      <th>Marks</th>\n",
       "      <th>Attendance</th>\n",
       "      <th>Grade</th>\n",
       "      <th>Exam Type</th>\n",
       "      <th>Date</th>\n",
       "      <th>Result</th>\n",
       "      <th>Grade_Score</th>\n",
       "    </tr>\n",
       "  </thead>\n",
       "  <tbody>\n",
       "    <tr>\n",
       "      <th>3</th>\n",
       "      <td>Raj Mehta</td>\n",
       "      <td>104</td>\n",
       "      <td>Chemistry</td>\n",
       "      <td>70</td>\n",
       "      <td>80.0</td>\n",
       "      <td>B</td>\n",
       "      <td>Midterm</td>\n",
       "      <td>2023-10-05</td>\n",
       "      <td>pass</td>\n",
       "      <td>7</td>\n",
       "    </tr>\n",
       "    <tr>\n",
       "      <th>6</th>\n",
       "      <td>Priya Nair</td>\n",
       "      <td>107</td>\n",
       "      <td>Chemistry</td>\n",
       "      <td>78</td>\n",
       "      <td>88.0</td>\n",
       "      <td>B+</td>\n",
       "      <td>Final</td>\n",
       "      <td>2024-03-12</td>\n",
       "      <td>pass</td>\n",
       "      <td>8</td>\n",
       "    </tr>\n",
       "    <tr>\n",
       "      <th>9</th>\n",
       "      <td>Mehul Jain</td>\n",
       "      <td>110</td>\n",
       "      <td>Chemistry</td>\n",
       "      <td>93</td>\n",
       "      <td>96.0</td>\n",
       "      <td>A+</td>\n",
       "      <td>Midterm</td>\n",
       "      <td>2023-10-05</td>\n",
       "      <td>pass</td>\n",
       "      <td>10</td>\n",
       "    </tr>\n",
       "    <tr>\n",
       "      <th>0</th>\n",
       "      <td>Riya Sharma</td>\n",
       "      <td>101</td>\n",
       "      <td>Math</td>\n",
       "      <td>87</td>\n",
       "      <td>90.0</td>\n",
       "      <td>A</td>\n",
       "      <td>Midterm</td>\n",
       "      <td>2023-10-05</td>\n",
       "      <td>pass</td>\n",
       "      <td>9</td>\n",
       "    </tr>\n",
       "    <tr>\n",
       "      <th>2</th>\n",
       "      <td>Sneha Patel</td>\n",
       "      <td>103</td>\n",
       "      <td>Math</td>\n",
       "      <td>92</td>\n",
       "      <td>95.0</td>\n",
       "      <td>A+</td>\n",
       "      <td>Final</td>\n",
       "      <td>2024-03-12</td>\n",
       "      <td>pass</td>\n",
       "      <td>10</td>\n",
       "    </tr>\n",
       "    <tr>\n",
       "      <th>4</th>\n",
       "      <td>Isha Verma</td>\n",
       "      <td>105</td>\n",
       "      <td>Math</td>\n",
       "      <td>48</td>\n",
       "      <td>70.0</td>\n",
       "      <td>C</td>\n",
       "      <td>Final</td>\n",
       "      <td>2024-03-12</td>\n",
       "      <td>pass</td>\n",
       "      <td>6</td>\n",
       "    </tr>\n",
       "    <tr>\n",
       "      <th>7</th>\n",
       "      <td>Rahul Yadav</td>\n",
       "      <td>108</td>\n",
       "      <td>Math</td>\n",
       "      <td>35</td>\n",
       "      <td>60.0</td>\n",
       "      <td>D</td>\n",
       "      <td>Final</td>\n",
       "      <td>2024-03-12</td>\n",
       "      <td>fail</td>\n",
       "      <td>5</td>\n",
       "    </tr>\n",
       "    <tr>\n",
       "      <th>1</th>\n",
       "      <td>Aman Singh</td>\n",
       "      <td>102</td>\n",
       "      <td>Physics</td>\n",
       "      <td>65</td>\n",
       "      <td>85.0</td>\n",
       "      <td>B</td>\n",
       "      <td>Midterm</td>\n",
       "      <td>2023-10-05</td>\n",
       "      <td>pass</td>\n",
       "      <td>7</td>\n",
       "    </tr>\n",
       "    <tr>\n",
       "      <th>5</th>\n",
       "      <td>Amit Tiwari</td>\n",
       "      <td>106</td>\n",
       "      <td>Physics</td>\n",
       "      <td>55</td>\n",
       "      <td>65.0</td>\n",
       "      <td>C</td>\n",
       "      <td>Midterm</td>\n",
       "      <td>2023-10-05</td>\n",
       "      <td>pass</td>\n",
       "      <td>6</td>\n",
       "    </tr>\n",
       "    <tr>\n",
       "      <th>8</th>\n",
       "      <td>Sonal Kapoor</td>\n",
       "      <td>109</td>\n",
       "      <td>Physics</td>\n",
       "      <td>89</td>\n",
       "      <td>92.0</td>\n",
       "      <td>A+</td>\n",
       "      <td>Final</td>\n",
       "      <td>2024-03-12</td>\n",
       "      <td>pass</td>\n",
       "      <td>10</td>\n",
       "    </tr>\n",
       "  </tbody>\n",
       "</table>\n",
       "</div>"
      ],
      "text/plain": [
       "           Name  Roll No    Subject  Marks  Attendance Grade Exam Type  \\\n",
       "3     Raj Mehta      104  Chemistry     70        80.0     B   Midterm   \n",
       "6    Priya Nair      107  Chemistry     78        88.0    B+     Final   \n",
       "9    Mehul Jain      110  Chemistry     93        96.0    A+   Midterm   \n",
       "0   Riya Sharma      101       Math     87        90.0     A   Midterm   \n",
       "2   Sneha Patel      103       Math     92        95.0    A+     Final   \n",
       "4    Isha Verma      105       Math     48        70.0     C     Final   \n",
       "7   Rahul Yadav      108       Math     35        60.0     D     Final   \n",
       "1    Aman Singh      102    Physics     65        85.0     B   Midterm   \n",
       "5   Amit Tiwari      106    Physics     55        65.0     C   Midterm   \n",
       "8  Sonal Kapoor      109    Physics     89        92.0    A+     Final   \n",
       "\n",
       "        Date Result  Grade_Score  \n",
       "3 2023-10-05   pass            7  \n",
       "6 2024-03-12   pass            8  \n",
       "9 2023-10-05   pass           10  \n",
       "0 2023-10-05   pass            9  \n",
       "2 2024-03-12   pass           10  \n",
       "4 2024-03-12   pass            6  \n",
       "7 2024-03-12   fail            5  \n",
       "1 2023-10-05   pass            7  \n",
       "5 2023-10-05   pass            6  \n",
       "8 2024-03-12   pass           10  "
      ]
     },
     "execution_count": 32,
     "metadata": {},
     "output_type": "execute_result"
    }
   ],
   "source": [
    "sort_df_dec=df.sort_values(by=\"Subject\", ascending=True)\n",
    "sort_df_dec"
   ]
  },
  {
   "cell_type": "code",
   "execution_count": null,
   "id": "150dd77a-846d-48c7-82d7-c0cb00c3202d",
   "metadata": {},
   "outputs": [],
   "source": []
  }
 ],
 "metadata": {
  "kernelspec": {
   "display_name": "Python 3 (ipykernel)",
   "language": "python",
   "name": "python3"
  },
  "language_info": {
   "codemirror_mode": {
    "name": "ipython",
    "version": 3
   },
   "file_extension": ".py",
   "mimetype": "text/x-python",
   "name": "python",
   "nbconvert_exporter": "python",
   "pygments_lexer": "ipython3",
   "version": "3.12.2"
  }
 },
 "nbformat": 4,
 "nbformat_minor": 5
}
